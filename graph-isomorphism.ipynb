{
 "cells": [
  {
   "cell_type": "markdown",
   "metadata": {},
   "source": [
    "# Graph Isomorphism Problem "
   ]
  },
  {
   "cell_type": "markdown",
   "metadata": {},
   "source": [
    "## Contains  \n",
    "* Definition of Graph Isomorphosm.\n",
    "* Specification of the Graph Isomorphism Problem.\n",
    "* Python function to determine whether two are isomorphic.\n",
    "* Explanation of the main reason computer scientists are interested in the complexity of the Graph Isomorphism Problem.    "
   ]
  }
 ],
 "metadata": {
  "interpreter": {
   "hash": "7e0276d9f89f330eca0550e5a83f34025b5406dff32f0be893c5d3fe4c71c089"
  },
  "kernelspec": {
   "display_name": "Python 3.9.7 ('base')",
   "language": "python",
   "name": "python3"
  },
  "language_info": {
   "codemirror_mode": {
    "name": "ipython",
    "version": 3
   },
   "file_extension": ".py",
   "mimetype": "text/x-python",
   "name": "python",
   "nbconvert_exporter": "python",
   "pygments_lexer": "ipython3",
   "version": "3.9.7"
  },
  "orig_nbformat": 4
 },
 "nbformat": 4,
 "nbformat_minor": 2
}
