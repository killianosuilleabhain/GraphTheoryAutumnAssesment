{
 "cells": [
  {
   "cell_type": "markdown",
   "metadata": {},
   "source": [
    "# Heap Sort"
   ]
  },
  {
   "cell_type": "markdown",
   "metadata": {},
   "source": [
    "## Contains\n",
    "* Explanation of what a rooted binary tree is\n",
    "* Overview of how the heap sort algorithm works, with reference to trees.\n",
    "* Python function implementing Heap Sort\n",
    "* Explanation why, in the worst case, heap sort is more efficient than bubble sort."
   ]
  }
 ],
 "metadata": {
  "language_info": {
   "name": "python"
  },
  "orig_nbformat": 4
 },
 "nbformat": 4,
 "nbformat_minor": 2
}
