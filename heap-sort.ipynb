{
 "cells": [
  {
   "cell_type": "markdown",
   "metadata": {},
   "source": [
    "# Heap Sort"
   ]
  },
  {
   "cell_type": "markdown",
   "metadata": {},
   "source": [
    "## Contains\n",
    "* Explanation of what a rooted binary tree is\n",
    "* Overview of how the heap sort algorithm works, with reference to trees.\n",
    "* Python function implementing Heap Sort\n",
    "* Explanation why, in the worst case, heap sort is more efficient than bubble sort."
   ]
  },
  {
   "cell_type": "markdown",
   "metadata": {},
   "source": [
    "## Data Strucures\n",
    "Before Learning about a Heapsort algorithm we first learn what an algorithm is in regards to Computer Scienece and specifcally Graph Theory. Acording to Britannica.com <a href=\"https://www.britannica.com/science/computer-science/Algorithms-and-complexity \" target=\"_blank\">\"An algorithm is a specific procedure for solving a well-defined computational problem.\"</a>"
   ]
  },
  {
   "cell_type": "markdown",
   "metadata": {},
   "source": [
    "## Explination of a rooted Binary tree\n",
    "### Binary tree\n",
    "We cant talk about a rooted Binary tree before talking about what is a binary Tree. \n",
    "A Binary tree is a hierarchal data struture where the nodes can have two children at maximum and the child nodes are called the left and right child.\n",
    "![Binary tree](https://static.javatpoint.com/ds/images/binary-tree.png)\n",
    "### Binary Trees have many properties\n",
    "* A binary tree can have a 2 nodes at level l if the level of the root is zero.\n",
    "* When a node has one or two children the number of leaf nodes is one more then the number of nodes with children\n",
    "### Benefits\n",
    "* Search operation of a binary tree is faster\n",
    "* easy to pick the max and min elements \n",
    "* converting different postfix and prefix are possible with binary trees.\n",
    "### Rooted Binary trees\n",
    "A rooted Binary tree is connected acyclkic graph where a specific node that is labbled the \"root\" of the tree. The root serves as a point of reference for other vertices in the tree. In Pictures of binary trees majority of the time the root will be the node sitting at the top to easily tell it apart and list the other vertices below.\n"
   ]
  },
  {
   "cell_type": "markdown",
   "metadata": {},
   "source": [
    "## How Does Heap sort algorithm work\n",
    "### Heap\n",
    "Before Talking about the heap sort algoritim it is important to understand the meaning of heap in computational terms. According to educative.io  <a href=\"https://www.educative.io/answers/what-is-a-heap\" target=\"_blank\">\"Heaps are advanced data structures that are useful for specific use-cases such as sorting and implementing priority queues.\"</a> Following on from what we learned above about binary trees Heaps must be a complete binary tree. There are two Types of heap\n",
    "* Max Heap\n",
    "* Min Heap \n",
    "\n",
    "#### Max Heap\n",
    "Max Heaps means that all parent node keys that are part of a binary tree must be greater or equal to their child node. key(A)>=key(B)\n",
    "\n",
    "![Max Heap](https://www.educative.io/api/edpresso/shot/5170884784422912/image/5724160613416960)\n",
    "\n",
    "#### Min Heap\n",
    "Min Heap means that all child node keys are greater than or equal to their parental nodes. key(A)<=key(B)\n",
    "\n",
    "![Min Heap](https://www.educative.io/api/edpresso/shot/5170884784422912/image/5685265389584384)\n",
    "\n",
    "The Differences between the two different Heap types other then order of smallest to largest is that in a min heap the smallest element is the first to be popped from the heap while in max heap the opposite is said that the largest element is the first to be popped off from the heap. Another difference is during the construction of the heap the largest element has priority is max heap while the smallest element has priority in min heap.\n",
    "\n",
    "### Heap sort Algorithm\n",
    "With an understanding of heap and a previous understanding of an algorithm we can now discuss the Heap sort Algorithm in whole. The Heap sort algorithm is a comparison based sorting technique based on a binary heap data structure. Heap Sort is an in place algorithm and although it may be slow in comparison to other other alternatives this would be due to its lack of locality although that being said it is still efficent.\n",
    "\n",
    "The steps needed to do to get the algorithm to work are to first turn the unsorted list into a max heap this will then get the algorithm to create a sorted array, by continously retriving the largest element from the heap. The two aspects get broken down into the following steps. The following comes from a lecture by Prof. Srini Devadas\n",
    "\n",
    "* Build a max heap from an unordered array\n",
    "* Retrive the largest element\n",
    "* swap the last element in the list with the first element (L(n)) for  (L(0))\n",
    "* Decrease size of the heap by 1\n",
    "* The new root will potentially violate the relational property of the max heap that we must correct this by shifting an element down the line to correct also known as max heapify\n",
    "* repeat from the second point until heap is empty\n",
    "\n",
    "### What is a Heapify\n",
    "Heapify is the process of converting a binary tree into a heap data structure, The heap must be a complete binary tree with each level of the tree filled from left to right.  <a href=\"https://johnderinger.wordpress.com/2012/12/28/heapify/\" target=\"_blank\">from John Deringer</a>\n",
    "\n",
    "### Benefits of a Heap sort Algorithm\n",
    "* Consistent performance\n",
    "* Although considered slow it is very efficent for sorting large numbers of elements\n",
    "* Very little memory usage\n",
    "* Easier to understand in comparison to other equally efficent sorting algorithms, no need for recursion.\n"
   ]
  },
  {
   "cell_type": "markdown",
   "metadata": {},
   "source": [
    "## References \n",
    "Algorithim definition https://www.britannica.com/science/computer-science/Algorithms-and-complexity\n",
    "\n",
    "Binary tree https://www.javatpoint.com/binary-tree\n",
    "\n",
    "Rooted Binary trees https://d3gt.com/unit.html?rooted-trees\n",
    "\n",
    "Heaps https://www.educative.io/answers/what-is-a-heap\n",
    "\n",
    "Prof S. Devadas, Prof E. Demaine, Heaps and Heap Sort. https://ocw.mit.edu/courses/6-006-introduction-to-algorithms-fall-2011/resources/mit6_006f11_lec04/"
   ]
  }
 ],
 "metadata": {
  "language_info": {
   "name": "python"
  },
  "orig_nbformat": 4
 },
 "nbformat": 4,
 "nbformat_minor": 2
}
